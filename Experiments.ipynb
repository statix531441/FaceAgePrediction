{
 "cells": [
  {
   "cell_type": "code",
   "execution_count": 2,
   "id": "2438fe34-efaa-48b0-a18e-a40aea4f7fbf",
   "metadata": {
    "tags": []
   },
   "outputs": [],
   "source": [
    "import os\n",
    "import json\n",
    "from argparse import Namespace\n",
    "\n",
    "import numpy as np\n",
    "import pandas as pd\n",
    "import matplotlib.pyplot as plt\n",
    "from PIL import Image\n",
    "\n",
    "import torch\n",
    "import torch.nn.functional as F\n",
    "from torch.utils.data import DataLoader\n",
    "from torchvision import transforms\n",
    "\n",
    "from tqdm.notebook import tqdm"
   ]
  },
  {
   "cell_type": "code",
   "execution_count": 3,
   "id": "0554bb0a-1fc9-4aec-9df2-e93cd92c244a",
   "metadata": {
    "tags": []
   },
   "outputs": [],
   "source": [
    "from model import load_history_model\n",
    "from data import Dataset, create_dataloaders"
   ]
  },
  {
   "cell_type": "code",
   "execution_count": 39,
   "id": "88ee52b3-16c1-4f0a-a252-1bb962659991",
   "metadata": {
    "tags": []
   },
   "outputs": [
    {
     "name": "stdout",
     "output_type": "stream",
     "text": [
      "cpu used for training.\n",
      "Train size: 1119, Test size: 280\n",
      "Model Loaded with feature extractor=dnet121, pretrained=False and freeze_extractor=False\n",
      "Loss: 52.03508758544922, train_acc: 0.16443252563476562, test_acc: 0.14642857015132904\n",
      "Loss: 51.62656569480896, train_acc: 0.20107237994670868, test_acc: 0.15000000596046448\n"
     ]
    },
    {
     "name": "stderr",
     "output_type": "stream",
     "text": [
      "\n",
      "Epoch 1:   0%|          | 0/23 [00:00<?, ?it/s]\n",
      "Epoch 1:   4%|4         | 1/23 [00:15<05:37, 15.36s/it]\n",
      "Epoch 1:   9%|8         | 2/23 [00:30<05:20, 15.28s/it]\n",
      "Epoch 1:  13%|#3        | 3/23 [00:45<05:03, 15.18s/it]\n",
      "Epoch 1:  17%|#7        | 4/23 [01:00<04:44, 14.99s/it]\n",
      "Epoch 1:  22%|##1       | 5/23 [01:15<04:28, 14.94s/it]\n",
      "Epoch 1:  26%|##6       | 6/23 [01:32<04:25, 15.63s/it]\n",
      "Epoch 1:  30%|###       | 7/23 [01:47<04:10, 15.63s/it]\n",
      "Epoch 1:  35%|###4      | 8/23 [02:03<03:54, 15.64s/it]\n",
      "Epoch 1:  39%|###9      | 9/23 [02:19<03:39, 15.66s/it]\n",
      "Epoch 1:  43%|####3     | 10/23 [02:34<03:23, 15.66s/it]\n",
      "Epoch 1:  48%|####7     | 11/23 [02:50<03:08, 15.67s/it]\n",
      "Epoch 1:  52%|#####2    | 12/23 [03:06<02:54, 15.85s/it]\n",
      "Epoch 1:  57%|#####6    | 13/23 [03:23<02:40, 16.02s/it]\n",
      "Epoch 1:  61%|######    | 14/23 [03:39<02:25, 16.14s/it]\n",
      "Epoch 1:  65%|######5   | 15/23 [03:55<02:09, 16.18s/it]\n",
      "Epoch 1:  70%|######9   | 16/23 [04:12<01:53, 16.22s/it]\n",
      "Epoch 1:  74%|#######3  | 17/23 [04:28<01:37, 16.29s/it]\n",
      "Epoch 1:  78%|#######8  | 18/23 [04:44<01:21, 16.26s/it]\n",
      "Epoch 1:  83%|########2 | 19/23 [05:01<01:04, 16.25s/it]\n",
      "Epoch 1:  87%|########6 | 20/23 [05:17<00:48, 16.27s/it]\n",
      "Epoch 1:  91%|#########1| 21/23 [05:33<00:32, 16.34s/it]\n",
      "Epoch 1:  96%|#########5| 22/23 [05:50<00:16, 16.31s/it]\n",
      "Epoch 1: 100%|##########| 23/23 [05:56<00:00, 13.36s/it]\n",
      "Epoch 1: 100%|##########| 23/23 [05:56<00:00, 15.50s/it]\n",
      "\n",
      "Epoch 2:   0%|          | 0/23 [00:00<?, ?it/s]\n",
      "Epoch 2:   4%|4         | 1/23 [00:15<05:45, 15.71s/it]\n",
      "Epoch 2:   9%|8         | 2/23 [00:31<05:28, 15.64s/it]\n",
      "Epoch 2:  13%|#3        | 3/23 [00:46<05:12, 15.62s/it]\n",
      "Epoch 2:  17%|#7        | 4/23 [01:02<04:57, 15.67s/it]\n",
      "Epoch 2:  22%|##1       | 5/23 [01:18<04:41, 15.62s/it]\n",
      "Epoch 2:  26%|##6       | 6/23 [01:33<04:25, 15.62s/it]\n",
      "Epoch 2:  30%|###       | 7/23 [01:49<04:10, 15.64s/it]\n",
      "Epoch 2:  35%|###4      | 8/23 [02:05<03:54, 15.61s/it]\n",
      "Epoch 2:  39%|###9      | 9/23 [02:20<03:38, 15.62s/it]\n",
      "Epoch 2:  43%|####3     | 10/23 [02:36<03:25, 15.81s/it]\n",
      "Epoch 2:  48%|####7     | 11/23 [02:52<03:09, 15.77s/it]\n",
      "Epoch 2:  52%|#####2    | 12/23 [03:08<02:52, 15.72s/it]\n",
      "Epoch 2:  57%|#####6    | 13/23 [03:23<02:36, 15.68s/it]\n",
      "Epoch 2:  61%|######    | 14/23 [03:39<02:20, 15.64s/it]\n",
      "Epoch 2:  65%|######5   | 15/23 [03:54<02:05, 15.64s/it]\n",
      "Epoch 2:  70%|######9   | 16/23 [04:10<01:49, 15.65s/it]\n",
      "Epoch 2:  74%|#######3  | 17/23 [04:26<01:33, 15.65s/it]\n",
      "Epoch 2:  78%|#######8  | 18/23 [04:42<01:18, 15.75s/it]\n",
      "Epoch 2:  83%|########2 | 19/23 [04:58<01:03, 15.85s/it]\n",
      "Epoch 2:  87%|########6 | 20/23 [05:13<00:47, 15.78s/it]\n",
      "Epoch 2:  91%|#########1| 21/23 [05:29<00:31, 15.71s/it]\n",
      "Epoch 2:  96%|#########5| 22/23 [05:45<00:15, 15.68s/it]\n",
      "Epoch 2: 100%|##########| 23/23 [05:51<00:00, 12.83s/it]\n",
      "Epoch 2: 100%|##########| 23/23 [05:51<00:00, 15.27s/it]\n"
     ]
    }
   ],
   "source": [
    "!python train.py --datafrac 0.1 --name test --epochs 2"
   ]
  },
  {
   "cell_type": "code",
   "execution_count": 41,
   "id": "35b627f9-61b0-42d2-a979-fdd875b2e068",
   "metadata": {
    "tags": []
   },
   "outputs": [
    {
     "name": "stdout",
     "output_type": "stream",
     "text": [
      "Namespace(lr=0.001, bs=50, epochs=2, datafrac=0.1, freeze_extractor=False, feature_extractor='dnet121', pretrained=False, checkpoint='checkpoints\\\\test\\\\best.pt', name='test')\n"
     ]
    }
   ],
   "source": [
    "model_name = 'test'\n",
    "checkpoint_path = os.path.join('checkpoints', model_name)\n",
    "checkpoint_best = os.path.join(checkpoint_path, 'best.pt')\n",
    "checkpoint_latest = os.path.join(checkpoint_path, 'latest.pt')\n",
    "train_args_path = os.path.join(checkpoint_path, 'train_args.txt')\n",
    "\n",
    "with open(train_args_path, 'r') as f:\n",
    "    args = Namespace(**json.load(f))\n",
    "    args.checkpoint = checkpoint_best\n",
    "    \n",
    "print(args)"
   ]
  },
  {
   "cell_type": "code",
   "execution_count": 42,
   "id": "ae2468f4-e963-42d5-8dc9-2af62121b56d",
   "metadata": {
    "tags": []
   },
   "outputs": [
    {
     "name": "stdout",
     "output_type": "stream",
     "text": [
      "Model Loaded with feature extractor=dnet121, pretrained=False and freeze_extractor=False\n",
      "Model weights loaded from checkpoints\\test\\best.pt into cpu\n"
     ]
    }
   ],
   "source": [
    "start_epoch, history, model = load_history_model(args)"
   ]
  },
  {
   "cell_type": "code",
   "execution_count": 43,
   "id": "70e135bd-2a06-48a1-a290-fdaca40602ec",
   "metadata": {
    "tags": []
   },
   "outputs": [
    {
     "data": {
      "text/plain": [
       "[<matplotlib.lines.Line2D at 0x246ccc04950>]"
      ]
     },
     "execution_count": 43,
     "metadata": {},
     "output_type": "execute_result"
    },
    {
     "data": {
      "image/png": "[encoded data removed]",
      "text/plain": [
       "<Figure size 640x480 with 1 Axes>"
      ]
     },
     "metadata": {},
     "output_type": "display_data"
    }
   ],
   "source": [
    "plt.plot(history['test_accuracy'])"
   ]
  },
  {
   "cell_type": "code",
   "execution_count": 27,
   "id": "aeecac08-5496-48b3-b20c-1bcc9b797821",
   "metadata": {
    "tags": []
   },
   "outputs": [
    {
     "data": {
      "text/html": [
       "<div>\n",
       "<style scoped>\n",
       "    .dataframe tbody tr th:only-of-type {\n",
       "        vertical-align: middle;\n",
       "    }\n",
       "\n",
       "    .dataframe tbody tr th {\n",
       "        vertical-align: top;\n",
       "    }\n",
       "\n",
       "    .dataframe thead th {\n",
       "        text-align: right;\n",
       "    }\n",
       "</style>\n",
       "<table border=\"1\" class=\"dataframe\">\n",
       "  <thead>\n",
       "    <tr style=\"text-align: right;\">\n",
       "      <th></th>\n",
       "      <th>image_path</th>\n",
       "      <th>age</th>\n",
       "      <th>age_category</th>\n",
       "      <th>class</th>\n",
       "      <th>gender</th>\n",
       "      <th>ethnicity</th>\n",
       "    </tr>\n",
       "  </thead>\n",
       "  <tbody>\n",
       "    <tr>\n",
       "      <th>0</th>\n",
       "      <td>100_0_0_20170112213500903.jpg.chip.jpg</td>\n",
       "      <td>100</td>\n",
       "      <td>(90, 100]</td>\n",
       "      <td>9</td>\n",
       "      <td>0</td>\n",
       "      <td>0.0</td>\n",
       "    </tr>\n",
       "    <tr>\n",
       "      <th>1</th>\n",
       "      <td>100_1_0_20170110183726390.jpg.chip.jpg</td>\n",
       "      <td>100</td>\n",
       "      <td>(90, 100]</td>\n",
       "      <td>9</td>\n",
       "      <td>1</td>\n",
       "      <td>0.0</td>\n",
       "    </tr>\n",
       "    <tr>\n",
       "      <th>2</th>\n",
       "      <td>11_0_0_20170110220453002.jpg.chip.jpg</td>\n",
       "      <td>11</td>\n",
       "      <td>(10, 20]</td>\n",
       "      <td>1</td>\n",
       "      <td>0</td>\n",
       "      <td>0.0</td>\n",
       "    </tr>\n",
       "    <tr>\n",
       "      <th>3</th>\n",
       "      <td>11_0_0_20170110220657089.jpg.chip.jpg</td>\n",
       "      <td>11</td>\n",
       "      <td>(10, 20]</td>\n",
       "      <td>1</td>\n",
       "      <td>0</td>\n",
       "      <td>0.0</td>\n",
       "    </tr>\n",
       "    <tr>\n",
       "      <th>4</th>\n",
       "      <td>11_0_0_20170110224233654.jpg.chip.jpg</td>\n",
       "      <td>11</td>\n",
       "      <td>(10, 20]</td>\n",
       "      <td>1</td>\n",
       "      <td>0</td>\n",
       "      <td>0.0</td>\n",
       "    </tr>\n",
       "    <tr>\n",
       "      <th>...</th>\n",
       "      <td>...</td>\n",
       "      <td>...</td>\n",
       "      <td>...</td>\n",
       "      <td>...</td>\n",
       "      <td>...</td>\n",
       "      <td>...</td>\n",
       "    </tr>\n",
       "    <tr>\n",
       "      <th>2792</th>\n",
       "      <td>9_0_4_20170110215354740.jpg.chip.jpg</td>\n",
       "      <td>9</td>\n",
       "      <td>(0, 10]</td>\n",
       "      <td>0</td>\n",
       "      <td>0</td>\n",
       "      <td>4.0</td>\n",
       "    </tr>\n",
       "    <tr>\n",
       "      <th>2793</th>\n",
       "      <td>9_1_0_20170105000600802.jpg.chip.jpg</td>\n",
       "      <td>9</td>\n",
       "      <td>(0, 10]</td>\n",
       "      <td>0</td>\n",
       "      <td>1</td>\n",
       "      <td>0.0</td>\n",
       "    </tr>\n",
       "    <tr>\n",
       "      <th>2794</th>\n",
       "      <td>9_1_0_20170109203410981.jpg.chip.jpg</td>\n",
       "      <td>9</td>\n",
       "      <td>(0, 10]</td>\n",
       "      <td>0</td>\n",
       "      <td>1</td>\n",
       "      <td>0.0</td>\n",
       "    </tr>\n",
       "    <tr>\n",
       "      <th>2795</th>\n",
       "      <td>9_1_0_20170109204512608.jpg.chip.jpg</td>\n",
       "      <td>9</td>\n",
       "      <td>(0, 10]</td>\n",
       "      <td>0</td>\n",
       "      <td>1</td>\n",
       "      <td>0.0</td>\n",
       "    </tr>\n",
       "    <tr>\n",
       "      <th>2796</th>\n",
       "      <td>9_1_2_20170102235115156.jpg.chip.jpg</td>\n",
       "      <td>9</td>\n",
       "      <td>(0, 10]</td>\n",
       "      <td>0</td>\n",
       "      <td>1</td>\n",
       "      <td>2.0</td>\n",
       "    </tr>\n",
       "  </tbody>\n",
       "</table>\n",
       "<p>2797 rows × 6 columns</p>\n",
       "</div>"
      ],
      "text/plain": [
       "                                  image_path  age age_category  class  gender   \n",
       "0     100_0_0_20170112213500903.jpg.chip.jpg  100    (90, 100]      9       0  \\\n",
       "1     100_1_0_20170110183726390.jpg.chip.jpg  100    (90, 100]      9       1   \n",
       "2      11_0_0_20170110220453002.jpg.chip.jpg   11     (10, 20]      1       0   \n",
       "3      11_0_0_20170110220657089.jpg.chip.jpg   11     (10, 20]      1       0   \n",
       "4      11_0_0_20170110224233654.jpg.chip.jpg   11     (10, 20]      1       0   \n",
       "...                                      ...  ...          ...    ...     ...   \n",
       "2792    9_0_4_20170110215354740.jpg.chip.jpg    9      (0, 10]      0       0   \n",
       "2793    9_1_0_20170105000600802.jpg.chip.jpg    9      (0, 10]      0       1   \n",
       "2794    9_1_0_20170109203410981.jpg.chip.jpg    9      (0, 10]      0       1   \n",
       "2795    9_1_0_20170109204512608.jpg.chip.jpg    9      (0, 10]      0       1   \n",
       "2796    9_1_2_20170102235115156.jpg.chip.jpg    9      (0, 10]      0       1   \n",
       "\n",
       "      ethnicity  \n",
       "0           0.0  \n",
       "1           0.0  \n",
       "2           0.0  \n",
       "3           0.0  \n",
       "4           0.0  \n",
       "...         ...  \n",
       "2792        4.0  \n",
       "2793        0.0  \n",
       "2794        0.0  \n",
       "2795        0.0  \n",
       "2796        2.0  \n",
       "\n",
       "[2797 rows x 6 columns]"
      ]
     },
     "execution_count": 27,
     "metadata": {},
     "output_type": "execute_result"
    }
   ],
   "source": [
    "train = pd.read_csv('train.csv')\n",
    "test = pd.read_csv('test.csv')\n",
    "test"
   ]
  },
  {
   "cell_type": "code",
   "execution_count": 44,
   "id": "eb2e0706-1554-4829-836e-439ec0f09a9d",
   "metadata": {
    "tags": []
   },
   "outputs": [],
   "source": [
    "# train = train.dropna()\n",
    "# test = test.dropna()"
   ]
  },
  {
   "cell_type": "markdown",
   "id": "4da4602f-59a2-4f84-8ff2-cd15be9fb48e",
   "metadata": {},
   "source": [
    "# Train Set"
   ]
  },
  {
   "cell_type": "code",
   "execution_count": 45,
   "id": "fe5e8759-36d7-431f-a362-8a7755a16e3d",
   "metadata": {},
   "outputs": [
    {
     "data": {
      "text/plain": [
       "(array([6173.,    0.,    0.,    0.,    0.,    0.,    0.,    0.,    0.,\n",
       "        5014.]),\n",
       " array([0. , 0.1, 0.2, 0.3, 0.4, 0.5, 0.6, 0.7, 0.8, 0.9, 1. ]),\n",
       " <BarContainer object of 10 artists>)"
      ]
     },
     "execution_count": 45,
     "metadata": {},
     "output_type": "execute_result"
    },
    {
     "data": {
      "image/png": "[encoded data removed]",
      "text/plain": [
       "<Figure size 640x480 with 1 Axes>"
      ]
     },
     "metadata": {},
     "output_type": "display_data"
    }
   ],
   "source": [
    "col = \"gender\"\n",
    "plt.title(col)\n",
    "plt.hist(train[col])"
   ]
  },
  {
   "cell_type": "markdown",
   "id": "2a7415c6-931d-4047-afc0-3246f720310c",
   "metadata": {},
   "source": [
    "There are about 19% more males than females in the dataset"
   ]
  },
  {
   "cell_type": "code",
   "execution_count": 46,
   "id": "1a679433-6c5e-45e1-9acd-488f9839e8b9",
   "metadata": {},
   "outputs": [
    {
     "data": {
      "image/png": "[encoded data removed]",
      "text/plain": [
       "<Figure size 640x480 with 1 Axes>"
      ]
     },
     "metadata": {},
     "output_type": "display_data"
    }
   ],
   "source": [
    "col = \"ethnicity\"\n",
    "plt.hist(train[col])\n",
    "plt.title(col)\n",
    "plt.show()"
   ]
  },
  {
   "cell_type": "markdown",
   "id": "e74eaf79-1b4c-453e-9161-6938c5d41e25",
   "metadata": {},
   "source": [
    "# Test set"
   ]
  },
  {
   "cell_type": "code",
   "execution_count": 47,
   "id": "3fa31682-ca04-40a7-bb78-3bf502bbde3f",
   "metadata": {
    "tags": []
   },
   "outputs": [
    {
     "data": {
      "image/png": "[encoded data removed]",
      "text/plain": [
       "<Figure size 640x480 with 1 Axes>"
      ]
     },
     "metadata": {},
     "output_type": "display_data"
    }
   ],
   "source": [
    "col = \"gender\"\n",
    "plt.hist(test[col])\n",
    "plt.title(col)\n",
    "plt.show()"
   ]
  },
  {
   "cell_type": "code",
   "execution_count": 48,
   "id": "8dafc3f2-7cd6-450f-a0be-01c00994d882",
   "metadata": {
    "tags": []
   },
   "outputs": [
    {
     "data": {
      "image/png": "[encoded data removed]",
      "text/plain": [
       "<Figure size 640x480 with 1 Axes>"
      ]
     },
     "metadata": {},
     "output_type": "display_data"
    }
   ],
   "source": [
    "col = \"ethnicity\"\n",
    "plt.hist(test[col])\n",
    "plt.title(col)\n",
    "plt.show()"
   ]
  },
  {
   "cell_type": "code",
   "execution_count": 49,
   "id": "b5b2d0d2-0d39-4a8b-9be2-3c87817e5990",
   "metadata": {
    "tags": []
   },
   "outputs": [
    {
     "name": "stdout",
     "output_type": "stream",
     "text": [
      "cpu used for testing.\n"
     ]
    }
   ],
   "source": [
    "if torch.cuda.is_available(): device = 'cuda:0'\n",
    "else: device = 'cpu'\n",
    "print(f\"{device} used for testing.\")"
   ]
  },
  {
   "cell_type": "code",
   "execution_count": 50,
   "id": "31cd19f5-75ad-408d-a141-5c9aacd30cc4",
   "metadata": {
    "tags": []
   },
   "outputs": [
    {
     "data": {
      "text/plain": [
       "0.15000000596046448"
      ]
     },
     "execution_count": 50,
     "metadata": {},
     "output_type": "execute_result"
    }
   ],
   "source": [
    "history['test_accuracy'][-1]"
   ]
  },
  {
   "cell_type": "code",
   "execution_count": 51,
   "id": "d01fcd74-ee15-42a7-a5e2-9dd304b47bc5",
   "metadata": {
    "tags": []
   },
   "outputs": [
    {
     "name": "stdout",
     "output_type": "stream",
     "text": [
      "test_acc: 0.15000000596046448 "
     ]
    }
   ],
   "source": [
    "test_set = Dataset(test, datafrac=0.1)\n",
    "test_loader = DataLoader(test_set, batch_size=1)\n",
    "\n",
    "test_acc = 0\n",
    "with torch.no_grad():\n",
    "    model.eval()\n",
    "    for batch_idx, (X, y, age_cat) in enumerate(test_loader):\n",
    "        X, y = X.to(device), y.to(device)\n",
    "\n",
    "        oh = model(X).softmax(dim=1)\n",
    "        test_acc += (oh.argmax(dim=1) == y.argmax(dim=1)).float().sum() \n",
    "\n",
    "    test_acc /= len(test_loader.dataset)\n",
    "    test_acc = test_acc.to('cpu').item()\n",
    "    print(f\"test_acc: {test_acc}\", end=\" \")"
   ]
  },
  {
   "cell_type": "code",
   "execution_count": 36,
   "id": "6adadf0d-3465-4b3f-bd29-1ce57250065a",
   "metadata": {
    "tags": []
   },
   "outputs": [],
   "source": [
    "def accuracyOn(data, col='gender', colval=0):\n",
    "    \n",
    "    data = data[data[col] == colval].dropna()\n",
    "\n",
    "    test_set = Dataset(data)\n",
    "    test_loader = DataLoader(test_set, batch_size=1)\n",
    "    \n",
    "    test_acc = 0\n",
    "    with torch.no_grad():\n",
    "        model.eval()\n",
    "        for batch_idx, (X, y, age_cat) in enumerate(test_loader):\n",
    "            X, y = X.to(device), y.to(device)\n",
    "\n",
    "            oh = model(X).softmax(dim=1)\n",
    "            test_acc += (oh.argmax(dim=1) == y.argmax(dim=1)).float().sum() \n",
    "\n",
    "        test_acc /= len(test_loader.dataset)\n",
    "        test_acc = test_acc.to('cpu').item()\n",
    "        print(f\"test_acc: {test_acc}\", end=\" \")\n",
    "        return test_acc"
   ]
  },
  {
   "cell_type": "code",
   "execution_count": 37,
   "id": "a66d85a3-ac32-4855-8e36-754aff8cfa07",
   "metadata": {
    "tags": []
   },
   "outputs": [
    {
     "name": "stdout",
     "output_type": "stream",
     "text": [
      "test_acc: 0.48253968358039856 "
     ]
    },
    {
     "data": {
      "text/plain": [
       "0.48253968358039856"
      ]
     },
     "execution_count": 37,
     "metadata": {},
     "output_type": "execute_result"
    }
   ],
   "source": [
    "accuracyOn(test, col='gender', colval=0)"
   ]
  },
  {
   "cell_type": "code",
   "execution_count": 38,
   "id": "35d6aa19-9fa7-4ab1-a474-77fa421604aa",
   "metadata": {
    "tags": []
   },
   "outputs": [
    {
     "name": "stdout",
     "output_type": "stream",
     "text": [
      "test_acc: 0.4492635130882263 "
     ]
    },
    {
     "data": {
      "text/plain": [
       "0.4492635130882263"
      ]
     },
     "execution_count": 38,
     "metadata": {},
     "output_type": "execute_result"
    }
   ],
   "source": [
    "accuracyOn(test, col='gender', colval=1)"
   ]
  }
 ],
 "metadata": {
  "kernelspec": {
   "display_name": "Python 3 (ipykernel)",
   "language": "python",
   "name": "python3"
  },
  "language_info": {
   "codemirror_mode": {
    "name": "ipython",
    "version": 3
   },
   "file_extension": ".py",
   "mimetype": "text/x-python",
   "name": "python",
   "nbconvert_exporter": "python",
   "pygments_lexer": "ipython3",
   "version": "3.11.2"
  }
 },
 "nbformat": 4,
 "nbformat_minor": 5
}
